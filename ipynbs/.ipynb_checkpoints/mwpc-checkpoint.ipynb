{
 "cells": [
  {
   "cell_type": "code",
   "execution_count": 1,
   "metadata": {},
   "outputs": [],
   "source": [
    "%matplotlib inline"
   ]
  },
  {
   "cell_type": "code",
   "execution_count": 2,
   "metadata": {},
   "outputs": [],
   "source": [
    "import numpy as np\n",
    "from uncertainties import unumpy as unp\n",
    "from uncertainties import ufloat\n",
    "\n",
    "import matplotlib as mpl\n",
    "import matplotlib.gridspec as gridspec\n",
    "from matplotlib import pyplot as plt\n",
    "mpl.rcParams['font.size'] = 18\n",
    "mpl.rcParams['font.family'] = 'serif'\n",
    "mpl.rcParams['font.serif'] = 'Computer Modern, Latin Modern Roman, Bitstream Vera Serif'\n",
    "mpl.rcParams['text.usetex'] = True\n",
    "\n",
    "import warnings\n",
    "warnings.simplefilter(\"ignore\", UserWarning)"
   ]
  },
  {
   "cell_type": "code",
   "execution_count": 3,
   "metadata": {},
   "outputs": [],
   "source": [
    "e_cfg = [1, 2, 4, 6, 8]\n",
    "pi_cfg = [4, 6, 8]"
   ]
  },
  {
   "cell_type": "code",
   "execution_count": 4,
   "metadata": {},
   "outputs": [
    {
     "name": "stdout",
     "output_type": "stream",
     "text": [
      "e_data [42.05666667 39.88333333 26.08666667 26.64166667 21.26      ]\n",
      "pi_data [21.80666667 17.53       13.10666667]\n"
     ]
    }
   ],
   "source": [
    "e_data = np.array([\n",
    "    [np.mean([ufloat(33.3, 2.6),   ufloat(28.06, 1.95)]),\n",
    "     np.mean([ufloat(43.37, 6.07), ufloat(45.67, 6.96)]),\n",
    "     np.mean([ufloat(48.63, 8.33), ufloat(53.31, 11.59)])],\n",
    "    [np.mean([ufloat(35.8, 3.0),   ufloat(30.27, 2.44)]),\n",
    "     np.mean([ufloat(33.5, 3.6),   ufloat(42.99, 5.97)]),\n",
    "     np.mean([ufloat(40.85, 6.33), ufloat(55.89, 12.28)])],\n",
    "    [np.mean([ufloat(22.97, 0.51), ufloat(22.43, 0.47)]),\n",
    "     np.mean([ufloat(26.98, 0.73), ufloat(25.38, 0.70)]),\n",
    "     np.mean([ufloat(29.51, 1.2),  ufloat(29.25, 1.01)])],\n",
    "    [np.mean([ufloat(23.66, 0.18), ufloat(21.73, 0.18)]),\n",
    "     np.mean([ufloat(28.48, 0.28), ufloat(26.29, 0.25)]),\n",
    "     np.mean([ufloat(28.63, 0.33), ufloat(31.06, 0.38)])],\n",
    "    [np.mean([ufloat(17.02, 0.19), ufloat(19.58, 0.18)]),\n",
    "     np.mean([ufloat(16.07, 0.17), ufloat(21.87, 0.25)]),\n",
    "     np.mean([ufloat(26.23, 0.35), ufloat(26.79, 0.35)])]\n",
    "])\n",
    "\n",
    "pi_data = np.array([\n",
    "    [np.mean([ufloat(17.56, 1.13), ufloat(18.55, 0.94)]),\n",
    "     np.mean([ufloat(24.29, 1.54), ufloat(23.27, 1.85)]),\n",
    "     np.mean([ufloat(22.66, 2.40), ufloat(24.51, 2.12)])],\n",
    "    [np.mean([ufloat(18.06, 0.60), ufloat(14.82, 0.59)]),\n",
    "     np.mean([ufloat(17.83, 0.73), ufloat(14.93, 0.71)]),\n",
    "     np.mean([ufloat(20.08, 0.95), ufloat(19.46, 0.77)])],\n",
    "    [np.mean([ufloat(10.22, 0.30), ufloat(11.28, 0.35)]),\n",
    "     np.mean([ufloat(11.43, 0.32), ufloat(14.57, 0.56)]),\n",
    "     np.mean([ufloat(14.5, 0.5),   ufloat(16.64, 0.72)])]\n",
    "])\n",
    "\n",
    "e_data = np.mean(e_data.T, axis=0)\n",
    "pi_data = np.mean(pi_data.T, axis=0)\n",
    "\n",
    "print 'e_data', unp.nominal_values(e_data)\n",
    "print 'pi_data', unp.nominal_values(pi_data)"
   ]
  },
  {
   "cell_type": "code",
   "execution_count": 5,
   "metadata": {},
   "outputs": [
    {
     "data": {
      "image/png": "[encoded data removed]",
      "text/plain": [
       "<Figure size 432x288 with 1 Axes>"
      ]
     },
     "metadata": {
      "needs_background": "light"
     },
     "output_type": "display_data"
    }
   ],
   "source": [
    "fontsize = 16\n",
    "\n",
    "fig = plt.figure(figsize=(6,4))\n",
    "ax = fig.add_subplot(111)\n",
    "\n",
    "ax.set_xlim(0, 9)\n",
    "ax.set_ylim(10, 50)\n",
    "\n",
    "for ymaj in ax.yaxis.get_majorticklocs():\n",
    "    ax.axhline(y=ymaj, ls=':', color='gray', alpha=1, linewidth=0.3)\n",
    "for xmaj in ax.xaxis.get_majorticklocs():\n",
    "    ax.axvline(x=xmaj, ls=':', color='gray', alpha=1, linewidth=0.3)\n",
    "\n",
    "ax.set_xlabel(r'Energy (GeV)', fontsize=fontsize)\n",
    "ax.set_ylabel(r'$<\\sigma_{\\rm mwpc}>\\:({\\rm mm})$', fontsize=fontsize)\n",
    "ax.tick_params(axis='x', labelsize=fontsize)\n",
    "ax.tick_params(axis='y', labelsize=fontsize)\n",
    "\n",
    "x = e_cfg\n",
    "y = e_data\n",
    "ax.plot(x, unp.nominal_values(y), marker='x', color='red',\n",
    "        linewidth=1.4, label=r'$e$ triggered')\n",
    "ax.errorbar(\n",
    "    x, unp.nominal_values(y), color='red', xerr=0, yerr=unp.std_devs(y),\n",
    "    capsize=1.6, alpha=1, linestyle='None', markersize=2, linewidth=1.4\n",
    ")\n",
    "\n",
    "x = pi_cfg\n",
    "y = pi_data\n",
    "ax.plot(x, unp.nominal_values(y), marker='x', color='blue',\n",
    "        linewidth=1.4, label=r'$\\pi$ triggered')\n",
    "ax.errorbar(\n",
    "    x, unp.nominal_values(y), color='blue', xerr=0, yerr=unp.std_devs(y),\n",
    "    capsize=1.6, alpha=1, linestyle='None', markersize=2, linewidth=1.4\n",
    ")\n",
    "\n",
    "ax.legend(loc='upper right', prop={'size': fontsize})\n",
    "\n",
    "fig.savefig('./images/mwpc.pdf', bbox_inches='tight', dpi=150)"
   ]
  }
 ],
 "metadata": {
  "kernelspec": {
   "display_name": "Python 2",
   "language": "python",
   "name": "python2"
  },
  "language_info": {
   "codemirror_mode": {
    "name": "ipython",
    "version": 2
   },
   "file_extension": ".py",
   "mimetype": "text/x-python",
   "name": "python",
   "nbconvert_exporter": "python",
   "pygments_lexer": "ipython2",
   "version": "2.7.15"
  }
 },
 "nbformat": 4,
 "nbformat_minor": 2
}
