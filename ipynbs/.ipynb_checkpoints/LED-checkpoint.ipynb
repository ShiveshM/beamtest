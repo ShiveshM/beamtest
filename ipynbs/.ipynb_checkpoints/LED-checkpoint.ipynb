{
 "cells": [
  {
   "cell_type": "code",
   "execution_count": 1,
   "metadata": {},
   "outputs": [],
   "source": [
    "%matplotlib inline\n",
    "import matplotlib as mpl\n",
    "import matplotlib.pyplot as plt\n",
    "import pandas as pd\n",
    "import numpy as np\n",
    "import numpy.ma as ma\n",
    "from scipy.optimize import curve_fit\n",
    "from matplotlib.offsetbox import AnchoredText\n",
    "mpl.rcParams['font.size'] = 18\n",
    "mpl.rcParams['font.family'] = 'serif'\n",
    "mpl.rcParams['font.serif'] = 'Computer Modern, Latin Modern Roman, Bitstream Vera Serif'\n",
    "mpl.rcParams['text.usetex'] = True"
   ]
  },
  {
   "cell_type": "code",
   "execution_count": 2,
   "metadata": {},
   "outputs": [],
   "source": [
    "def get_charge(df):\n",
    "    idxs = df['index'].unique()\n",
    "    charge = []\n",
    "    for idx in idxs:\n",
    "        charge.append(df[df['index'] == idx]['charge'][0])\n",
    "    return np.array(charge)"
   ]
  },
  {
   "cell_type": "code",
   "execution_count": 3,
   "metadata": {},
   "outputs": [],
   "source": [
    "def gauss(x, *p):\n",
    "    A, mu, sigma = p\n",
    "    return A*np.exp(-(x-mu)**2/(2.*sigma**2))"
   ]
  },
  {
   "cell_type": "code",
   "execution_count": 4,
   "metadata": {},
   "outputs": [],
   "source": [
    "BINS = 100\n",
    "binning = np.linspace(0, 100, BINS+1)\n",
    "bin_centres = (binning[:-1] + binning[1:])/2."
   ]
  },
  {
   "cell_type": "markdown",
   "metadata": {},
   "source": [
    "# Charge plots"
   ]
  },
  {
   "cell_type": "markdown",
   "metadata": {
    "heading_collapsed": true
   },
   "source": [
    "## 06/15"
   ]
  },
  {
   "cell_type": "code",
   "execution_count": 5,
   "metadata": {
    "hidden": true
   },
   "outputs": [],
   "source": [
    "store = pd.HDFStore(\"../data/l2/led/0615.hd5\")\n",
    "l_0615 = store['df']\n",
    "store.close()"
   ]
  },
  {
   "cell_type": "code",
   "execution_count": 6,
   "metadata": {
    "hidden": true
   },
   "outputs": [
    {
     "name": "stdout",
     "output_type": "stream",
     "text": [
      "Number of waveforms = 1822\n"
     ]
    }
   ],
   "source": [
    "hist, _ = np.histogram(get_charge(l_0615), binning)\n",
    "hist_0 = np.concatenate([[hist[0]], hist])\n",
    "# initial guess\n",
    "p0 = [1., 60., 1.]\n",
    "coeff, var_matrix = curve_fit(gauss, bin_centres, hist, p0=p0, bounds=([0, 10, 0], [1e6, 100, 100]))\n",
    "hist_fit = gauss(bin_centres, *coeff)\n",
    "pe_0615 = (coeff[1] / coeff[2])**2\n",
    "# internal impedence of DDC2 is 150 ohms\n",
    "gain_0615 = (coeff[1] * 1e-9) / (pe_0615 * 150. * 1.6e-19)\n",
    "print 'Number of waveforms = {0}'.format(len(l_0615['index'].unique()))"
   ]
  },
  {
   "cell_type": "code",
   "execution_count": 7,
   "metadata": {
    "hidden": true
   },
   "outputs": [
    {
     "data": {
      "text/plain": [
       "<matplotlib.offsetbox.AnchoredText at 0x7f9c5bd03c50>"
      ]
     },
     "execution_count": 7,
     "metadata": {},
     "output_type": "execute_result"
    },
    {
     "name": "stderr",
     "output_type": "stream",
     "text": [
      "/home/shivesh/programs/anaconda2/lib/python2.7/site-packages/matplotlib/font_manager.py:1331: UserWarning: findfont: Font family [u'serif'] not found. Falling back to DejaVu Sans\n",
      "  (prop.get_family(), self.defaultFamily[fontext]))\n"
     ]
    },
    {
     "data": {
      "image/png": "[encoded data removed]",
      "text/plain": [
       "<Figure size 576x432 with 1 Axes>"
      ]
     },
     "metadata": {
      "needs_background": "light"
     },
     "output_type": "display_data"
    }
   ],
   "source": [
    "fig = plt.figure(figsize=(8,6))\n",
    "ax = fig.add_subplot(111)\n",
    "ax.set_xlim(0, np.max(binning))\n",
    "#ax.set_xlim(0, 20)\n",
    "\n",
    "ax.step(\n",
    "    binning, hist_0, alpha=1, drawstyle='steps-pre', linewidth=1,\n",
    "    linestyle='-', color='r'\n",
    ")\n",
    "ax.plot(bin_centres, hist_fit, label='Fitted with gaussian')\n",
    "\n",
    "ax.set_xlabel('Charge (nVs)')\n",
    "ax.set_ylabel('N')\n",
    "for ymaj in ax.yaxis.get_majorticklocs():\n",
    "    ax.axhline(y=ymaj, ls=':', color='gray', alpha=0.7, linewidth=1)\n",
    "for xmaj in ax.xaxis.get_majorticklocs():\n",
    "    ax.axvline(x=xmaj, ls=':', color='gray', alpha=0.7, linewidth=1)\n",
    "    \n",
    "ax.legend()\n",
    "at = AnchoredText(r'$A = {0:.3f}$'.format(coeff[0]) + '\\n' +\n",
    "                  r'$\\mu = {0:.3f}$'.format(coeff[1]) + '\\n' +\n",
    "                  r'$\\sigma = {0:.3f}$'.format(abs(coeff[2])) + '\\n' +\n",
    "                  r'$(\\frac{\\mu}{\\sigma})^2 = PE = ' + r'{0:.1f}$'.format(pe_0615) + '\\n' +\n",
    "                  r'gain = {0:.2e}'.format(gain_0615),\n",
    "                  prop=dict(size=10), frameon=True, loc=5)\n",
    "at.patch.set_boxstyle(\"round,pad=0.3,rounding_size=0.2\")\n",
    "ax.add_artist(at)"
   ]
  },
  {
   "cell_type": "markdown",
   "metadata": {
    "heading_collapsed": true
   },
   "source": [
    "## 06/17"
   ]
  },
  {
   "cell_type": "code",
   "execution_count": 8,
   "metadata": {
    "hidden": true
   },
   "outputs": [],
   "source": [
    "store = pd.HDFStore(\"../data/l2/led/0617.hd5\")\n",
    "l_0617 = store['df']\n",
    "store.close()"
   ]
  },
  {
   "cell_type": "code",
   "execution_count": 9,
   "metadata": {
    "hidden": true
   },
   "outputs": [
    {
     "name": "stdout",
     "output_type": "stream",
     "text": [
      "Number of waveforms = 937\n"
     ]
    }
   ],
   "source": [
    "hist, _ = np.histogram(get_charge(l_0617), binning)\n",
    "hist_0 = np.concatenate([[hist[0]], hist])\n",
    "# initial guess\n",
    "p0 = [1., 10., 1.]\n",
    "coeff, var_matrix = curve_fit(gauss, bin_centres, hist, p0=p0, bounds=([0, 5, 0], [1e6, 100, 100]))\n",
    "hist_fit = gauss(bin_centres, *coeff)\n",
    "pe_0617 = (coeff[1] / coeff[2])**2\n",
    "# internal impedence of DDC2 is 150 ohms\n",
    "gain_0617 = (coeff[1] * 1e-9) / (pe_0617 * 150. * 1.6e-19)\n",
    "print 'Number of waveforms = {0}'.format(len(l_0617['index'].unique()))"
   ]
  },
  {
   "cell_type": "code",
   "execution_count": 10,
   "metadata": {
    "hidden": true
   },
   "outputs": [
    {
     "data": {
      "text/plain": [
       "<matplotlib.offsetbox.AnchoredText at 0x7f9c5bbb0590>"
      ]
     },
     "execution_count": 10,
     "metadata": {},
     "output_type": "execute_result"
    },
    {
     "data": {
      "image/png": "[encoded data removed]",
      "text/plain": [
       "<Figure size 576x432 with 1 Axes>"
      ]
     },
     "metadata": {
      "needs_background": "light"
     },
     "output_type": "display_data"
    }
   ],
   "source": [
    "fig = plt.figure(figsize=(8,6))\n",
    "ax = fig.add_subplot(111)\n",
    "ax.set_xlim(0, np.max(binning))\n",
    "#ax.set_xlim(0, 20)\n",
    "\n",
    "ax.step(\n",
    "    binning, hist_0, alpha=1, drawstyle='steps-pre', linewidth=1,\n",
    "    linestyle='-', color='r'\n",
    ")\n",
    "ax.plot(bin_centres, hist_fit, label='Fitted with gaussian')\n",
    "\n",
    "ax.set_xlabel('Charge (nVs)')\n",
    "ax.set_ylabel('N')\n",
    "for ymaj in ax.yaxis.get_majorticklocs():\n",
    "    ax.axhline(y=ymaj, ls=':', color='gray', alpha=0.7, linewidth=1)\n",
    "for xmaj in ax.xaxis.get_majorticklocs():\n",
    "    ax.axvline(x=xmaj, ls=':', color='gray', alpha=0.7, linewidth=1)\n",
    "    \n",
    "ax.legend()\n",
    "at = AnchoredText(r'$A = {0:.3f}$'.format(coeff[0]) + '\\n' +\n",
    "                  r'$\\mu = {0:.3f}$'.format(coeff[1]) + '\\n' +\n",
    "                  r'$\\sigma = {0:.3f}$'.format(abs(coeff[2])) + '\\n' +\n",
    "                  r'$(\\frac{\\mu}{\\sigma})^2 = PE = ' + r'{0:.1f}$'.format(pe_0617) + '\\n' +\n",
    "                  r'gain = {0:.2e}'.format(gain_0617),\n",
    "                  prop=dict(size=10), frameon=True, loc=5)\n",
    "at.patch.set_boxstyle(\"round,pad=0.3,rounding_size=0.2\")\n",
    "ax.add_artist(at)"
   ]
  },
  {
   "cell_type": "markdown",
   "metadata": {
    "heading_collapsed": true
   },
   "source": [
    "## 06/18"
   ]
  },
  {
   "cell_type": "code",
   "execution_count": 11,
   "metadata": {
    "hidden": true
   },
   "outputs": [],
   "source": [
    "store = pd.HDFStore(\"../data/l2/led/0618.hd5\")\n",
    "l_0618 = store['df']\n",
    "store.close()"
   ]
  },
  {
   "cell_type": "code",
   "execution_count": 12,
   "metadata": {
    "hidden": true
   },
   "outputs": [
    {
     "name": "stdout",
     "output_type": "stream",
     "text": [
      "Number of waveforms = 927\n"
     ]
    }
   ],
   "source": [
    "hist, _ = np.histogram(get_charge(l_0618), binning)\n",
    "hist_0 = np.concatenate([[hist[0]], hist])\n",
    "# initial guess\n",
    "p0 = [1., 10., 1.]\n",
    "coeff, var_matrix = curve_fit(gauss, bin_centres, hist, p0=p0, bounds=([0, 5, 0], [1e6, 100, 100]))\n",
    "hist_fit = gauss(bin_centres, *coeff)\n",
    "pe_0618 = (coeff[1] / coeff[2])**2\n",
    "# internal impedence of DDC2 is 150 ohms\n",
    "gain_0618 = (coeff[1] * 1e-9) / (pe_0618 * 150. * 1.6e-19)\n",
    "print 'Number of waveforms = {0}'.format(len(l_0618['index'].unique()))"
   ]
  },
  {
   "cell_type": "code",
   "execution_count": 13,
   "metadata": {
    "hidden": true
   },
   "outputs": [
    {
     "data": {
      "text/plain": [
       "<matplotlib.offsetbox.AnchoredText at 0x7f9c5bafff90>"
      ]
     },
     "execution_count": 13,
     "metadata": {},
     "output_type": "execute_result"
    },
    {
     "data": {
      "image/png": "[encoded data removed]",
      "text/plain": [
       "<Figure size 576x432 with 1 Axes>"
      ]
     },
     "metadata": {
      "needs_background": "light"
     },
     "output_type": "display_data"
    }
   ],
   "source": [
    "fig = plt.figure(figsize=(8,6))\n",
    "ax = fig.add_subplot(111)\n",
    "ax.set_xlim(0, np.max(binning))\n",
    "#ax.set_xlim(0, 20)\n",
    "\n",
    "ax.step(\n",
    "    binning, hist_0, alpha=1, drawstyle='steps-pre', linewidth=1,\n",
    "    linestyle='-', color='r'\n",
    ")\n",
    "ax.plot(bin_centres, hist_fit, label='Fitted with gaussian')\n",
    "\n",
    "ax.set_xlabel('Charge (nVs)')\n",
    "ax.set_ylabel('N')\n",
    "for ymaj in ax.yaxis.get_majorticklocs():\n",
    "    ax.axhline(y=ymaj, ls=':', color='gray', alpha=0.7, linewidth=1)\n",
    "for xmaj in ax.xaxis.get_majorticklocs():\n",
    "    ax.axvline(x=xmaj, ls=':', color='gray', alpha=0.7, linewidth=1)\n",
    "    \n",
    "ax.legend()\n",
    "at = AnchoredText(r'$A = {0:.3f}$'.format(coeff[0]) + '\\n' +\n",
    "                  r'$\\mu = {0:.3f}$'.format(coeff[1]) + '\\n' +\n",
    "                  r'$\\sigma = {0:.3f}$'.format(abs(coeff[2])) + '\\n' +\n",
    "                  r'$(\\frac{\\mu}{\\sigma})^2 = PE = ' + r'{0:.1f}$'.format(pe_0618) + '\\n' +\n",
    "                  r'gain = {0:.2e}'.format(gain_0618),\n",
    "                  prop=dict(size=10), frameon=True, loc=5)\n",
    "at.patch.set_boxstyle(\"round,pad=0.3,rounding_size=0.2\")\n",
    "ax.add_artist(at)"
   ]
  },
  {
   "cell_type": "markdown",
   "metadata": {
    "heading_collapsed": true
   },
   "source": [
    "## 06/19"
   ]
  },
  {
   "cell_type": "code",
   "execution_count": 14,
   "metadata": {
    "hidden": true
   },
   "outputs": [],
   "source": [
    "store = pd.HDFStore(\"../data/l2/led/0619.hd5\")\n",
    "l_0619 = store['df']\n",
    "store.close()"
   ]
  },
  {
   "cell_type": "code",
   "execution_count": 15,
   "metadata": {
    "hidden": true
   },
   "outputs": [
    {
     "name": "stdout",
     "output_type": "stream",
     "text": [
      "Number of waveforms = 927\n"
     ]
    }
   ],
   "source": [
    "hist, _ = np.histogram(get_charge(l_0619), binning)\n",
    "hist_0 = np.concatenate([[hist[0]], hist])\n",
    "# initial guess\n",
    "p0 = [1., 10., 1.]\n",
    "coeff, var_matrix = curve_fit(gauss, bin_centres, hist, p0=p0, bounds=([0, 5, 0], [1e6, 100, 100]))\n",
    "hist_fit = gauss(bin_centres, *coeff)\n",
    "pe_0619 = (coeff[1] / coeff[2])**2\n",
    "# internal impedence of DDC2 is 150 ohms\n",
    "gain_0619 = (coeff[1] * 1e-9) / (pe_0619 * 150. * 1.6e-19)\n",
    "print 'Number of waveforms = {0}'.format(len(l_0619['index'].unique()))"
   ]
  },
  {
   "cell_type": "code",
   "execution_count": 16,
   "metadata": {
    "hidden": true
   },
   "outputs": [
    {
     "data": {
      "text/plain": [
       "<matplotlib.offsetbox.AnchoredText at 0x7f9c5ba6ee10>"
      ]
     },
     "execution_count": 16,
     "metadata": {},
     "output_type": "execute_result"
    },
    {
     "data": {
      "image/png": "[encoded data removed]",
      "text/plain": [
       "<Figure size 576x432 with 1 Axes>"
      ]
     },
     "metadata": {
      "needs_background": "light"
     },
     "output_type": "display_data"
    }
   ],
   "source": [
    "fig = plt.figure(figsize=(8,6))\n",
    "ax = fig.add_subplot(111)\n",
    "ax.set_xlim(0, np.max(binning))\n",
    "#ax.set_xlim(0, 20)\n",
    "\n",
    "ax.step(\n",
    "    binning, hist_0, alpha=1, drawstyle='steps-pre', linewidth=1,\n",
    "    linestyle='-', color='r'\n",
    ")\n",
    "ax.plot(bin_centres, hist_fit, label='Fitted with gaussian')\n",
    "\n",
    "ax.set_xlabel('Charge (nVs)')\n",
    "ax.set_ylabel('N')\n",
    "for ymaj in ax.yaxis.get_majorticklocs():\n",
    "    ax.axhline(y=ymaj, ls=':', color='gray', alpha=0.7, linewidth=1)\n",
    "for xmaj in ax.xaxis.get_majorticklocs():\n",
    "    ax.axvline(x=xmaj, ls=':', color='gray', alpha=0.7, linewidth=1)\n",
    "    \n",
    "ax.legend()\n",
    "at = AnchoredText(r'$A = {0:.3f}$'.format(coeff[0]) + '\\n' +\n",
    "                  r'$\\mu = {0:.3f}$'.format(coeff[1]) + '\\n' +\n",
    "                  r'$\\sigma = {0:.3f}$'.format(abs(coeff[2])) + '\\n' +\n",
    "                  r'$(\\frac{\\mu}{\\sigma})^2 = PE = ' + r'{0:.1f}$'.format(pe_0619) + '\\n' +\n",
    "                  r'gain = {0:.2e}'.format(gain_0619),\n",
    "                  prop=dict(size=10), frameon=True, loc=5)\n",
    "at.patch.set_boxstyle(\"round,pad=0.3,rounding_size=0.2\")\n",
    "ax.add_artist(at)"
   ]
  },
  {
   "cell_type": "markdown",
   "metadata": {
    "heading_collapsed": true
   },
   "source": [
    "## 06/20"
   ]
  },
  {
   "cell_type": "code",
   "execution_count": 17,
   "metadata": {
    "hidden": true
   },
   "outputs": [],
   "source": [
    "store = pd.HDFStore(\"../data/l2/led/0620.hd5\")\n",
    "l_0620 = store['df']\n",
    "store.close()"
   ]
  },
  {
   "cell_type": "code",
   "execution_count": 18,
   "metadata": {},
   "outputs": [],
   "source": [
    "BINS = 100\n",
    "binning = np.linspace(0, 100, BINS+1)\n",
    "bin_centres = (binning[:-1] + binning[1:])/2."
   ]
  },
  {
   "cell_type": "code",
   "execution_count": 19,
   "metadata": {
    "hidden": true
   },
   "outputs": [
    {
     "name": "stdout",
     "output_type": "stream",
     "text": [
      "Number of waveforms = 1444\n"
     ]
    }
   ],
   "source": [
    "hist, _ = np.histogram(get_charge(l_0620), binning)\n",
    "hist_0 = np.concatenate([[hist[0]], hist])\n",
    "# initial guess\n",
    "p0 = [1., 70., 1.]\n",
    "coeff, var_matrix = curve_fit(gauss, bin_centres, hist, p0=p0, bounds=([0, 5, 0], [1e6, 100, 100]))\n",
    "hist_fit = gauss(bin_centres, *coeff)\n",
    "pe_0620 = (coeff[1] / coeff[2])**2\n",
    "# internal impedence of DDC2 is 150 ohms\n",
    "gain_0620 = (coeff[1] * 1e-9) / (pe_0620 * 150. * 1.6e-19)\n",
    "#gain_0620 = (cum_gauss(*coeff) * 1e-9) / (pe_0620 * 150. * 1.6e-19)\n",
    "print 'Number of waveforms = {0}'.format(len(l_0620['index'].unique()))"
   ]
  },
  {
   "cell_type": "code",
   "execution_count": 21,
   "metadata": {
    "hidden": true
   },
   "outputs": [
    {
     "data": {
      "image/png": "[encoded data removed]",
      "text/plain": [
       "<Figure size 432x288 with 1 Axes>"
      ]
     },
     "metadata": {
      "needs_background": "light"
     },
     "output_type": "display_data"
    }
   ],
   "source": [
    "fontsize = 16\n",
    "\n",
    "fig = plt.figure(figsize=(6,4))\n",
    "ax = fig.add_subplot(111)\n",
    "ax.set_xlim(0, np.max(binning))\n",
    "#ax.set_xlim(0, 20)\n",
    "ax.set_ylim(0, 130)\n",
    "\n",
    "ax.step(\n",
    "    binning, hist_0, alpha=1, drawstyle='steps-pre', linewidth=2,\n",
    "    linestyle='-', color='r'\n",
    ")\n",
    "ax.plot(bin_centres, hist_fit, linewidth=2, color='b', label='Fitted with gaussian', alpha=0.8)\n",
    "\n",
    "ax.set_xlabel('Charge (nVs)', fontsize=fontsize)\n",
    "ax.set_ylabel('Number of entries', fontsize=fontsize)\n",
    "for ymaj in ax.yaxis.get_majorticklocs():\n",
    "    ax.axhline(y=ymaj, ls=':', color='gray', alpha=1, linewidth=0.3)\n",
    "for xmaj in ax.xaxis.get_majorticklocs():\n",
    "    ax.axvline(x=xmaj, ls=':', color='gray', alpha=1, linewidth=0.3)\n",
    "\n",
    "ax.tick_params(axis='x', labelsize=fontsize)\n",
    "ax.tick_params(axis='y', labelsize=fontsize)\n",
    "    \n",
    "#ax.legend()\n",
    "at = AnchoredText(r'$A = {0:.3f}$'.format(coeff[0]) + '\\n' +\n",
    "                  r'$\\mu = {0:.3f}'.format(coeff[1]) + r'\\:{\\rm nVs}$' +'\\n' +\n",
    "                  r'$\\sigma = {0:.3f}'.format(abs(coeff[2])) + r'\\:{\\rm nVs}$',\n",
    "                  prop=dict(size=fontsize), frameon=True, loc=2)\n",
    "at.patch.set_boxstyle(\"round,pad=0.3,rounding_size=0.2\")\n",
    "ax.add_artist(at)\n",
    "\n",
    "at = AnchoredText(r'$20^{\\rm th}\\:\\,{\\rm June}\\:\\,2017$', prop=dict(size=fontsize), frameon=False, loc=1)\n",
    "ax.add_artist(at)\n",
    "fig.savefig('images/led_charge.eps', bbox_inches='tight', dpi=150)"
   ]
  },
  {
   "cell_type": "code",
   "execution_count": 21,
   "metadata": {},
   "outputs": [
    {
     "data": {
      "image/png": "[encoded data removed]",
      "text/plain": [
       "<Figure size 720x576 with 1 Axes>"
      ]
     },
     "metadata": {
      "needs_background": "light"
     },
     "output_type": "display_data"
    }
   ],
   "source": [
    "fig = plt.figure(figsize=(10, 8))\n",
    "ax = fig.add_subplot(111)\n",
    "\n",
    "wv_idx = l_0620['index'].unique()\n",
    "nplot = 100\n",
    "for i, idx in enumerate(range(3)):\n",
    "    if i == nplot: break\n",
    "    wv_df = l_0620[l_0620['index'] == idx]\n",
    "    ax.plot(wv_df['isamp'][:760/4], wv_df['voltage'][:760/4], linestyle='--', linewidth=0.5, alpha=0.8, c='green')"
   ]
  },
  {
   "cell_type": "markdown",
   "metadata": {
    "heading_collapsed": true
   },
   "source": [
    "## 06/21"
   ]
  },
  {
   "cell_type": "code",
   "execution_count": 22,
   "metadata": {
    "hidden": true
   },
   "outputs": [],
   "source": [
    "store = pd.HDFStore(\"../data/l2/led/0621.hd5\")\n",
    "l_0621 = store['df']\n",
    "store.close()"
   ]
  },
  {
   "cell_type": "code",
   "execution_count": 23,
   "metadata": {
    "hidden": true
   },
   "outputs": [
    {
     "name": "stdout",
     "output_type": "stream",
     "text": [
      "Number of waveforms = 2979\n"
     ]
    }
   ],
   "source": [
    "hist, _ = np.histogram(get_charge(l_0621), binning)\n",
    "hist_0 = np.concatenate([[hist[0]], hist])\n",
    "# initial guess\n",
    "p0 = [1., 60., 1.]\n",
    "coeff, var_matrix = curve_fit(gauss, bin_centres, hist, p0=p0, bounds=([0, 5, 0], [1e6, 100, 100]))\n",
    "hist_fit = gauss(bin_centres, *coeff)\n",
    "pe_0621 = (coeff[1] / coeff[2])**2\n",
    "# internal impedence of DDC2 is 150 ohms\n",
    "gain_0621 = (coeff[1] * 1e-9) / (pe_0621 * 150. * 1.6e-19)\n",
    "print 'Number of waveforms = {0}'.format(len(l_0621['index'].unique()))"
   ]
  },
  {
   "cell_type": "code",
   "execution_count": 24,
   "metadata": {
    "hidden": true
   },
   "outputs": [
    {
     "data": {
      "text/plain": [
       "<matplotlib.offsetbox.AnchoredText at 0x7fbda45a3a50>"
      ]
     },
     "execution_count": 24,
     "metadata": {},
     "output_type": "execute_result"
    },
    {
     "data": {
      "image/png": "[encoded data removed]",
      "text/plain": [
       "<Figure size 576x432 with 1 Axes>"
      ]
     },
     "metadata": {
      "needs_background": "light"
     },
     "output_type": "display_data"
    }
   ],
   "source": [
    "fig = plt.figure(figsize=(8,6))\n",
    "ax = fig.add_subplot(111)\n",
    "ax.set_xlim(0, np.max(binning))\n",
    "#ax.set_xlim(0, 20)\n",
    "\n",
    "ax.step(\n",
    "    binning, hist_0, alpha=1, drawstyle='steps-pre', linewidth=1,\n",
    "    linestyle='-', color='r'\n",
    ")\n",
    "ax.plot(bin_centres, hist_fit, label='Fitted with gaussian')\n",
    "\n",
    "ax.set_xlabel('Charge (nVs)')\n",
    "ax.set_ylabel('N')\n",
    "for ymaj in ax.yaxis.get_majorticklocs():\n",
    "    ax.axhline(y=ymaj, ls=':', color='gray', alpha=0.7, linewidth=1)\n",
    "for xmaj in ax.xaxis.get_majorticklocs():\n",
    "    ax.axvline(x=xmaj, ls=':', color='gray', alpha=0.7, linewidth=1)\n",
    "    \n",
    "ax.legend()\n",
    "at = AnchoredText(r'$A = {0:.3f}$'.format(coeff[0]) + '\\n' +\n",
    "                  r'$\\mu = {0:.3f}$'.format(coeff[1]) + '\\n' +\n",
    "                  r'$\\sigma = {0:.3f}$'.format(abs(coeff[2])) + '\\n' +\n",
    "                  r'$(\\frac{\\mu}{\\sigma})^2 = PE = ' + r'{0:.1f}$'.format(pe_0621) + '\\n' +\n",
    "                  r'gain = {0:.2e}'.format(gain_0621),\n",
    "                  prop=dict(size=10), frameon=True, loc=5)\n",
    "at.patch.set_boxstyle(\"round,pad=0.3,rounding_size=0.2\")\n",
    "ax.add_artist(at)"
   ]
  },
  {
   "cell_type": "markdown",
   "metadata": {
    "heading_collapsed": true
   },
   "source": [
    "## 06/22"
   ]
  },
  {
   "cell_type": "code",
   "execution_count": 25,
   "metadata": {
    "hidden": true
   },
   "outputs": [],
   "source": [
    "store = pd.HDFStore(\"../data/l2/led/0622.hd5\")\n",
    "l_0622 = store['df']\n",
    "store.close()"
   ]
  },
  {
   "cell_type": "code",
   "execution_count": null,
   "metadata": {
    "hidden": true
   },
   "outputs": [],
   "source": [
    "hist, _ = np.histogram(get_charge(l_0622), binning)\n",
    "hist_0 = np.concatenate([[hist[0]], hist])\n",
    "# initial guess\n",
    "p0 = [1., 70., 1.]\n",
    "coeff, var_matrix = curve_fit(gauss, bin_centres, hist, p0=p0, bounds=([0, 5, 0], [1e6, 100, 100]))\n",
    "hist_fit = gauss(bin_centres, *coeff)\n",
    "pe_0622 = (coeff[1] / coeff[2])**2\n",
    "# internal impedence of DDC2 is 150 ohms\n",
    "gain_0622 = (coeff[1] * 1e-9) / (pe_0622 * 150. * 1.6e-19)\n",
    "print 'Number of waveforms = {0}'.format(len(l_0622['index'].unique()))"
   ]
  },
  {
   "cell_type": "code",
   "execution_count": null,
   "metadata": {
    "hidden": true
   },
   "outputs": [],
   "source": [
    "fig = plt.figure(figsize=(8,6))\n",
    "ax = fig.add_subplot(111)\n",
    "ax.set_xlim(0, np.max(binning))\n",
    "#ax.set_xlim(0, 20)\n",
    "\n",
    "ax.step(\n",
    "    binning, hist_0, alpha=1, drawstyle='steps-pre', linewidth=1,\n",
    "    linestyle='-', color='r'\n",
    ")\n",
    "ax.plot(bin_centres, hist_fit, label='Fitted with gaussian')\n",
    "\n",
    "ax.set_xlabel('Charge (nVs)')\n",
    "ax.set_ylabel('N')\n",
    "for ymaj in ax.yaxis.get_majorticklocs():\n",
    "    ax.axhline(y=ymaj, ls=':', color='gray', alpha=0.7, linewidth=1)\n",
    "for xmaj in ax.xaxis.get_majorticklocs():\n",
    "    ax.axvline(x=xmaj, ls=':', color='gray', alpha=0.7, linewidth=1)\n",
    "    \n",
    "ax.legend()\n",
    "at = AnchoredText(r'$A = {0:.3f}$'.format(coeff[0]) + '\\n' +\n",
    "                  r'$\\mu = {0:.3f}$'.format(coeff[1]) + '\\n' +\n",
    "                  r'$\\sigma = {0:.3f}$'.format(abs(coeff[2])) + '\\n' +\n",
    "                  r'$(\\frac{\\mu}{\\sigma})^2 = PE = ' + r'{0:.1f}$'.format(pe_0622) + '\\n' +\n",
    "                  r'gain = {0:.2e}'.format(gain_0622),\n",
    "                  prop=dict(size=10), frameon=True, loc=5)\n",
    "at.patch.set_boxstyle(\"round,pad=0.3,rounding_size=0.2\")\n",
    "ax.add_artist(at)"
   ]
  },
  {
   "cell_type": "markdown",
   "metadata": {
    "heading_collapsed": true
   },
   "source": [
    "## 06/23"
   ]
  },
  {
   "cell_type": "code",
   "execution_count": null,
   "metadata": {
    "hidden": true
   },
   "outputs": [],
   "source": [
    "store = pd.HDFStore(\"../data/l2/led/0623.hd5\")\n",
    "l_0623 = store['df']\n",
    "store.close()"
   ]
  },
  {
   "cell_type": "code",
   "execution_count": null,
   "metadata": {
    "hidden": true
   },
   "outputs": [],
   "source": [
    "hist, _ = np.histogram(get_charge(l_0623), binning)\n",
    "hist_0 = np.concatenate([[hist[0]], hist])\n",
    "# initial guess\n",
    "p0 = [1., 70., 1.]\n",
    "coeff, var_matrix = curve_fit(gauss, bin_centres, hist, p0=p0, bounds=([0, 5, 0], [1e6, 100, 100]))\n",
    "hist_fit = gauss(bin_centres, *coeff)\n",
    "pe_0623 = (coeff[1] / coeff[2])**2\n",
    "# internal impedence of DDC2 is 150 ohms\n",
    "gain_0623 = (coeff[1] * 1e-9) / (pe_0623 * 150. * 1.6e-19)\n",
    "print 'Number of waveforms = {0}'.format(len(l_0623['index'].unique()))"
   ]
  },
  {
   "cell_type": "code",
   "execution_count": null,
   "metadata": {
    "hidden": true
   },
   "outputs": [],
   "source": [
    "fig = plt.figure(figsize=(8,6))\n",
    "ax = fig.add_subplot(111)\n",
    "ax.set_xlim(0, np.max(binning))\n",
    "#ax.set_xlim(0, 20)\n",
    "\n",
    "ax.step(\n",
    "    binning, hist_0, alpha=1, drawstyle='steps-pre', linewidth=1,\n",
    "    linestyle='-', color='r'\n",
    ")\n",
    "ax.plot(bin_centres, hist_fit, label='Fitted with gaussian')\n",
    "\n",
    "ax.set_xlabel('Charge (nVs)')\n",
    "ax.set_ylabel('N')\n",
    "for ymaj in ax.yaxis.get_majorticklocs():\n",
    "    ax.axhline(y=ymaj, ls=':', color='gray', alpha=0.7, linewidth=1)\n",
    "for xmaj in ax.xaxis.get_majorticklocs():\n",
    "    ax.axvline(x=xmaj, ls=':', color='gray', alpha=0.7, linewidth=1)\n",
    "    \n",
    "ax.legend()\n",
    "at = AnchoredText(r'$A = {0:.3f}$'.format(coeff[0]) + '\\n' +\n",
    "                  r'$\\mu = {0:.3f}$'.format(coeff[1]) + '\\n' +\n",
    "                  r'$\\sigma = {0:.3f}$'.format(abs(coeff[2])) + '\\n' +\n",
    "                  r'$(\\frac{\\mu}{\\sigma})^2 = PE = ' + r'{0:.1f}$'.format(pe_0623) + '\\n' +\n",
    "                  r'gain = {0:.2e}'.format(gain_0623),\n",
    "                  prop=dict(size=10), frameon=True, loc=5)\n",
    "at.patch.set_boxstyle(\"round,pad=0.3,rounding_size=0.2\")\n",
    "ax.add_artist(at)"
   ]
  },
  {
   "cell_type": "markdown",
   "metadata": {
    "heading_collapsed": true
   },
   "source": [
    "## 06/25"
   ]
  },
  {
   "cell_type": "code",
   "execution_count": null,
   "metadata": {
    "hidden": true
   },
   "outputs": [],
   "source": [
    "store = pd.HDFStore(\"../data/l2/led/0625.hd5\")\n",
    "l_0625 = store['df']\n",
    "store.close()"
   ]
  },
  {
   "cell_type": "code",
   "execution_count": null,
   "metadata": {
    "hidden": true
   },
   "outputs": [],
   "source": [
    "hist, _ = np.histogram(get_charge(l_0625), binning)\n",
    "hist_0 = np.concatenate([[hist[0]], hist])\n",
    "# initial guess\n",
    "p0 = [1., 70., 1.]\n",
    "coeff, var_matrix = curve_fit(gauss, bin_centres, hist, p0=p0, bounds=([0, 5, 0], [1e6, 100, 100]))\n",
    "hist_fit = gauss(bin_centres, *coeff)\n",
    "pe_0625 = (coeff[1] / coeff[2])**2\n",
    "# internal impedence of DDC2 is 150 ohms\n",
    "gain_0625 = (coeff[1] * 1e-9) / (pe_0625 * 150. * 1.6e-19)\n",
    "print 'Number of waveforms = {0}'.format(len(l_0625['index'].unique()))"
   ]
  },
  {
   "cell_type": "code",
   "execution_count": null,
   "metadata": {
    "hidden": true
   },
   "outputs": [],
   "source": [
    "fig = plt.figure(figsize=(8,6))\n",
    "ax = fig.add_subplot(111)\n",
    "ax.set_xlim(0, np.max(binning))\n",
    "#ax.set_xlim(0, 20)\n",
    "\n",
    "ax.step(\n",
    "    binning, hist_0, alpha=1, drawstyle='steps-pre', linewidth=1,\n",
    "    linestyle='-', color='r'\n",
    ")\n",
    "ax.plot(bin_centres, hist_fit, label='Fitted with gaussian')\n",
    "\n",
    "ax.set_xlabel('Charge (nVs)')\n",
    "ax.set_ylabel('N')\n",
    "for ymaj in ax.yaxis.get_majorticklocs():\n",
    "    ax.axhline(y=ymaj, ls=':', color='gray', alpha=0.7, linewidth=1)\n",
    "for xmaj in ax.xaxis.get_majorticklocs():\n",
    "    ax.axvline(x=xmaj, ls=':', color='gray', alpha=0.7, linewidth=1)\n",
    "    \n",
    "ax.legend()\n",
    "at = AnchoredText(r'$A = {0:.3f}$'.format(coeff[0]) + '\\n' +\n",
    "                  r'$\\mu = {0:.3f}$'.format(coeff[1]) + '\\n' +\n",
    "                  r'$\\sigma = {0:.3f}$'.format(abs(coeff[2])) + '\\n' +\n",
    "                  r'$(\\frac{\\mu}{\\sigma})^2 = PE = ' + r'{0:.1f}$'.format(pe_0625) + '\\n' +\n",
    "                  r'gain = {0:.2e}'.format(gain_0625),\n",
    "                  prop=dict(size=10), frameon=True, loc=5)\n",
    "at.patch.set_boxstyle(\"round,pad=0.3,rounding_size=0.2\")\n",
    "ax.add_artist(at)"
   ]
  },
  {
   "cell_type": "markdown",
   "metadata": {
    "heading_collapsed": true
   },
   "source": [
    "## 06/26"
   ]
  },
  {
   "cell_type": "code",
   "execution_count": null,
   "metadata": {
    "hidden": true
   },
   "outputs": [],
   "source": [
    "store = pd.HDFStore(\"../data/l2/led/0626.hd5\")\n",
    "l_0626 = store['df']\n",
    "store.close()"
   ]
  },
  {
   "cell_type": "code",
   "execution_count": null,
   "metadata": {
    "hidden": true
   },
   "outputs": [],
   "source": [
    "hist, _ = np.histogram(get_charge(l_0626), binning)\n",
    "hist_0 = np.concatenate([[hist[0]], hist])\n",
    "# initial guess\n",
    "p0 = [1., 70., 1.]\n",
    "coeff, var_matrix = curve_fit(gauss, bin_centres, hist, p0=p0, bounds=([0, 5, 0], [1e6, 100, 100]))\n",
    "hist_fit = gauss(bin_centres, *coeff)\n",
    "pe_0626 = (coeff[1] / coeff[2])**2\n",
    "# internal impedence of DDC2 is 150 ohms\n",
    "gain_0626 = (coeff[1] * 1e-9) / (pe_0626 * 150. * 1.6e-19)\n",
    "print 'Number of waveforms = {0}'.format(len(l_0626['index'].unique()))"
   ]
  },
  {
   "cell_type": "code",
   "execution_count": null,
   "metadata": {
    "hidden": true
   },
   "outputs": [],
   "source": [
    "fig = plt.figure(figsize=(8,6))\n",
    "ax = fig.add_subplot(111)\n",
    "ax.set_xlim(0, np.max(binning))\n",
    "#ax.set_xlim(0, 20)\n",
    "\n",
    "ax.step(\n",
    "    binning, hist_0, alpha=1, drawstyle='steps-pre', linewidth=1,\n",
    "    linestyle='-', color='r'\n",
    ")\n",
    "ax.plot(bin_centres, hist_fit, label='Fitted with gaussian')\n",
    "\n",
    "ax.set_xlabel('Charge (nVs)')\n",
    "ax.set_ylabel('N')\n",
    "for ymaj in ax.yaxis.get_majorticklocs():\n",
    "    ax.axhline(y=ymaj, ls=':', color='gray', alpha=0.7, linewidth=1)\n",
    "for xmaj in ax.xaxis.get_majorticklocs():\n",
    "    ax.axvline(x=xmaj, ls=':', color='gray', alpha=0.7, linewidth=1)\n",
    "    \n",
    "ax.legend()\n",
    "at = AnchoredText(r'$A = {0:.3f}$'.format(coeff[0]) + '\\n' +\n",
    "                  r'$\\mu = {0:.3f}$'.format(coeff[1]) + '\\n' +\n",
    "                  r'$\\sigma = {0:.3f}$'.format(abs(coeff[2])) + '\\n' +\n",
    "                  r'$(\\frac{\\mu}{\\sigma})^2 = PE = ' + r'{0:.1f}$'.format(pe_0626) + '\\n' +\n",
    "                  r'gain = {0:.2e}'.format(gain_0626),\n",
    "                  prop=dict(size=10), frameon=True, loc=5)\n",
    "at.patch.set_boxstyle(\"round,pad=0.3,rounding_size=0.2\")\n",
    "ax.add_artist(at)"
   ]
  },
  {
   "cell_type": "markdown",
   "metadata": {
    "heading_collapsed": true
   },
   "source": [
    "## 06/27"
   ]
  },
  {
   "cell_type": "code",
   "execution_count": null,
   "metadata": {
    "hidden": true
   },
   "outputs": [],
   "source": [
    "store = pd.HDFStore(\"../data/l2/led/0627.hd5\")\n",
    "l_0627 = store['df']\n",
    "store.close()"
   ]
  },
  {
   "cell_type": "code",
   "execution_count": null,
   "metadata": {
    "hidden": true
   },
   "outputs": [],
   "source": [
    "hist, _ = np.histogram(get_charge(l_0627), binning)\n",
    "hist_0 = np.concatenate([[hist[0]], hist])\n",
    "# initial guess\n",
    "p0 = [1., 70., 1.]\n",
    "coeff, var_matrix = curve_fit(gauss, bin_centres, hist, p0=p0, bounds=([0, 5, 0], [1e6, 100, 100]))\n",
    "hist_fit = gauss(bin_centres, *coeff)\n",
    "pe_0627 = (coeff[1] / coeff[2])**2\n",
    "# internal impedence of DDC2 is 150 ohms\n",
    "gain_0627 = (coeff[1] * 1e-9) / (pe_0627 * 150. * 1.6e-19)\n",
    "print 'Number of waveforms = {0}'.format(len(l_0627['index'].unique()))"
   ]
  },
  {
   "cell_type": "code",
   "execution_count": null,
   "metadata": {
    "hidden": true
   },
   "outputs": [],
   "source": [
    "fig = plt.figure(figsize=(8,6))\n",
    "ax = fig.add_subplot(111)\n",
    "ax.set_xlim(0, np.max(binning))\n",
    "#ax.set_xlim(0, 20)\n",
    "\n",
    "ax.step(\n",
    "    binning, hist_0, alpha=1, drawstyle='steps-pre', linewidth=1,\n",
    "    linestyle='-', color='r'\n",
    ")\n",
    "ax.plot(bin_centres, hist_fit, label='Fitted with gaussian')\n",
    "\n",
    "ax.set_xlabel('Charge (nVs)')\n",
    "ax.set_ylabel('N')\n",
    "for ymaj in ax.yaxis.get_majorticklocs():\n",
    "    ax.axhline(y=ymaj, ls=':', color='gray', alpha=0.7, linewidth=1)\n",
    "for xmaj in ax.xaxis.get_majorticklocs():\n",
    "    ax.axvline(x=xmaj, ls=':', color='gray', alpha=0.7, linewidth=1)\n",
    "    \n",
    "ax.legend()\n",
    "at = AnchoredText(r'$A = {0:.3f}$'.format(coeff[0]) + '\\n' +\n",
    "                  r'$\\mu = {0:.3f}$'.format(coeff[1]) + '\\n' +\n",
    "                  r'$\\sigma = {0:.3f}$'.format(abs(coeff[2])) + '\\n' +\n",
    "                  r'$(\\frac{\\mu}{\\sigma})^2 = PE = ' + r'{0:.1f}$'.format(pe_0627) + '\\n' +\n",
    "                  r'gain = {0:.2e}'.format(gain_0627),\n",
    "                  prop=dict(size=10), frameon=True, loc=5)\n",
    "at.patch.set_boxstyle(\"round,pad=0.3,rounding_size=0.2\")\n",
    "ax.add_artist(at)"
   ]
  },
  {
   "cell_type": "markdown",
   "metadata": {
    "heading_collapsed": true
   },
   "source": [
    "## 06/28"
   ]
  },
  {
   "cell_type": "code",
   "execution_count": null,
   "metadata": {
    "hidden": true
   },
   "outputs": [],
   "source": [
    "store = pd.HDFStore(\"../data/l2/led/0628.hd5\")\n",
    "l_0628 = store['df']\n",
    "store.close()"
   ]
  },
  {
   "cell_type": "code",
   "execution_count": null,
   "metadata": {
    "hidden": true
   },
   "outputs": [],
   "source": [
    "hist, _ = np.histogram(get_charge(l_0628), binning)\n",
    "hist_0 = np.concatenate([[hist[0]], hist])\n",
    "# initial guess\n",
    "p0 = [1., 70., 1.]\n",
    "coeff, var_matrix = curve_fit(gauss, bin_centres, hist, p0=p0, bounds=([0, 5, 0], [1e6, 100, 100]))\n",
    "hist_fit = gauss(bin_centres, *coeff)\n",
    "pe_0628 = (coeff[1] / coeff[2])**2\n",
    "# internal impedence of DDC2 is 150 ohms\n",
    "gain_0628 = (coeff[1] * 1e-9) / (pe_0628 * 150. * 1.6e-19)\n",
    "print 'Number of waveforms = {0}'.format(len(l_0628['index'].unique()))"
   ]
  },
  {
   "cell_type": "code",
   "execution_count": null,
   "metadata": {
    "hidden": true
   },
   "outputs": [],
   "source": [
    "fig = plt.figure(figsize=(8,6))\n",
    "ax = fig.add_subplot(111)\n",
    "ax.set_xlim(0, np.max(binning))\n",
    "#ax.set_xlim(0, 20)\n",
    "\n",
    "ax.step(\n",
    "    binning, hist_0, alpha=1, drawstyle='steps-pre', linewidth=1,\n",
    "    linestyle='-', color='r'\n",
    ")\n",
    "ax.plot(bin_centres, hist_fit, label='Fitted with gaussian')\n",
    "\n",
    "ax.set_xlabel('Charge (nVs)')\n",
    "ax.set_ylabel('N')\n",
    "for ymaj in ax.yaxis.get_majorticklocs():\n",
    "    ax.axhline(y=ymaj, ls=':', color='gray', alpha=0.7, linewidth=1)\n",
    "for xmaj in ax.xaxis.get_majorticklocs():\n",
    "    ax.axvline(x=xmaj, ls=':', color='gray', alpha=0.7, linewidth=1)\n",
    "    \n",
    "ax.legend()\n",
    "at = AnchoredText(r'$A = {0:.3f}$'.format(coeff[0]) + '\\n' +\n",
    "                  r'$\\mu = {0:.3f}$'.format(coeff[1]) + '\\n' +\n",
    "                  r'$\\sigma = {0:.3f}$'.format(abs(coeff[2])) + '\\n' +\n",
    "                  r'$(\\frac{\\mu}{\\sigma})^2 = PE = ' + r'{0:.1f}$'.format(pe_0628) + '\\n' +\n",
    "                  r'gain = {0:.2e}'.format(gain_0628),\n",
    "                  prop=dict(size=10), frameon=True, loc=5)\n",
    "at.patch.set_boxstyle(\"round,pad=0.3,rounding_size=0.2\")\n",
    "ax.add_artist(at)"
   ]
  },
  {
   "cell_type": "markdown",
   "metadata": {
    "heading_collapsed": true
   },
   "source": [
    "## 06/29"
   ]
  },
  {
   "cell_type": "code",
   "execution_count": null,
   "metadata": {
    "hidden": true
   },
   "outputs": [],
   "source": [
    "store = pd.HDFStore(\"../data/l2/led/0629.hd5\")\n",
    "l_0629 = store['df']\n",
    "store.close()"
   ]
  },
  {
   "cell_type": "code",
   "execution_count": null,
   "metadata": {
    "hidden": true
   },
   "outputs": [],
   "source": [
    "hist, _ = np.histogram(get_charge(l_0629), binning)\n",
    "hist_0 = np.concatenate([[hist[0]], hist])\n",
    "# initial guess\n",
    "p0 = [1., 70., 1.]\n",
    "coeff, var_matrix = curve_fit(gauss, bin_centres, hist, p0=p0, bounds=([0, 5, 0], [1e6, 100, 100]))\n",
    "hist_fit = gauss(bin_centres, *coeff)\n",
    "pe_0629 = (coeff[1] / coeff[2])**2\n",
    "# internal impedence of DDC2 is 150 ohms\n",
    "gain_0629 = (coeff[1] * 1e-9) / (pe_0629 * 150. * 1.6e-19)\n",
    "print 'Number of waveforms = {0}'.format(len(l_0629['index'].unique()))"
   ]
  },
  {
   "cell_type": "code",
   "execution_count": null,
   "metadata": {},
   "outputs": [],
   "source": [
    "fig = plt.figure(figsize=(10, 8))\n",
    "ax = fig.add_subplot(111)\n",
    "\n",
    "wv_idx = l_0629['index'].unique()\n",
    "nplot = 10000\n",
    "for i, idx in enumerate(wv_idx):\n",
    "    if i == nplot: break\n",
    "    wv_df = l_0629[l_0629['index'] == idx]\n",
    "    ax.plot(wv_df['isamp'], wv_df['voltage'], linestyle='--', linewidth=0.5, alpha=0.8, c='green')"
   ]
  },
  {
   "cell_type": "code",
   "execution_count": null,
   "metadata": {
    "hidden": true
   },
   "outputs": [],
   "source": [
    "fig = plt.figure(figsize=(8,6))\n",
    "ax = fig.add_subplot(111)\n",
    "ax.set_xlim(0, np.max(binning))\n",
    "#ax.set_xlim(0, 20)\n",
    "\n",
    "ax.step(\n",
    "    binning, hist_0, alpha=1, drawstyle='steps-pre', linewidth=1,\n",
    "    linestyle='-', color='r'\n",
    ")\n",
    "ax.plot(bin_centres, hist_fit, label='Fitted with gaussian')\n",
    "\n",
    "ax.set_xlabel('Charge (nVs)')\n",
    "ax.set_ylabel('N')\n",
    "for ymaj in ax.yaxis.get_majorticklocs():\n",
    "    ax.axhline(y=ymaj, ls=':', color='gray', alpha=0.7, linewidth=1)\n",
    "for xmaj in ax.xaxis.get_majorticklocs():\n",
    "    ax.axvline(x=xmaj, ls=':', color='gray', alpha=0.7, linewidth=1)\n",
    "    \n",
    "ax.legend()\n",
    "at = AnchoredText(r'$A = {0:.3f}$'.format(coeff[0]) + '\\n' +\n",
    "                  r'$\\mu = {0:.3f}$'.format(coeff[1]) + '\\n' +\n",
    "                  r'$\\sigma = {0:.3f}$'.format(abs(coeff[2])) + '\\n' +\n",
    "                  r'$(\\frac{\\mu}{\\sigma})^2 = PE = ' + r'{0:.1f}$'.format(pe_0629) + '\\n' +\n",
    "                  r'gain = {0:.2e}'.format(gain_0629),\n",
    "                  prop=dict(size=10), frameon=True, loc=5)\n",
    "at.patch.set_boxstyle(\"round,pad=0.3,rounding_size=0.2\")\n",
    "ax.add_artist(at)"
   ]
  },
  {
   "cell_type": "code",
   "execution_count": null,
   "metadata": {},
   "outputs": [],
   "source": [
    "fig = plt.figure(figsize=(8,6))\n",
    "ax = fig.add_subplot(111)\n",
    "ax.set_xlim(0, np.max(binning))\n",
    "#ax.set_xlim(0, 20)\n",
    "\n",
    "ax.step(\n",
    "    binning, hist_0, alpha=1, drawstyle='steps-pre', linewidth=1,\n",
    "    linestyle='-', color='r'\n",
    ")\n",
    "ax.plot(bin_centres, hist_fit, label='Fitted with gaussian')\n",
    "\n",
    "ax.set_xlabel('Charge (nVs)')\n",
    "ax.set_ylabel('N')\n",
    "for ymaj in ax.yaxis.get_majorticklocs():\n",
    "    ax.axhline(y=ymaj, ls=':', color='gray', alpha=0.7, linewidth=1)\n",
    "for xmaj in ax.xaxis.get_majorticklocs():\n",
    "    ax.axvline(x=xmaj, ls=':', color='gray', alpha=0.7, linewidth=1)\n",
    "    \n",
    "ax.legend()\n",
    "at = AnchoredText(r'$A = {0:.3f}$'.format(coeff[0]) + '\\n' +\n",
    "                  r'$\\mu = {0:.3f}$'.format(coeff[1]) + '\\n' +\n",
    "                  r'$\\sigma = {0:.3f}$'.format(abs(coeff[2])) + '\\n' +\n",
    "                  r'$(\\frac{\\mu}{\\sigma})^2 = PE = ' + r'{0:.1f}$'.format(pe_0629) + '\\n' +\n",
    "                  r'gain = {0:.2e}'.format(gain_0629),\n",
    "                  prop=dict(size=10), frameon=True, loc=5)\n",
    "at.patch.set_boxstyle(\"round,pad=0.3,rounding_size=0.2\")\n",
    "ax.add_artist(at)"
   ]
  },
  {
   "cell_type": "markdown",
   "metadata": {},
   "source": [
    "# Time Plots"
   ]
  },
  {
   "cell_type": "code",
   "execution_count": null,
   "metadata": {},
   "outputs": [],
   "source": [
    "gains = ma.masked_equal([gain_0615, gain_0617, gain_0618, gain_0619, gain_0620, \\\n",
    "         gain_0621, gain_0622, gain_0623, 0, gain_0625, gain_0626, gain_0627, gain_0628, gain_0629], 0)\n",
    "pes = ma.masked_equal([pe_0615, pe_0617, pe_0618, pe_0619, pe_0620, \\\n",
    "       pe_0621, pe_0622, pe_0623, 0, pe_0625, pe_0626, pe_0627, pe_0628, pe_0629], 0)\n",
    "day = []\n",
    "for i in range(len(pes)):\n",
    "    day.append(np.datetime64('2017-06-15') + np.timedelta64(i, 'D'))"
   ]
  },
  {
   "cell_type": "code",
   "execution_count": null,
   "metadata": {},
   "outputs": [],
   "source": [
    "a = day[-1]\n",
    "print a\n",
    "print a + np.timedelta64(12, 'h')\n",
    "print np.datetime64('2017-06-28T00:00') + np.timedelta64(12, 'h')"
   ]
  },
  {
   "cell_type": "code",
   "execution_count": null,
   "metadata": {},
   "outputs": [],
   "source": [
    "print gains[7]"
   ]
  },
  {
   "cell_type": "code",
   "execution_count": null,
   "metadata": {},
   "outputs": [],
   "source": [
    "fig = plt.figure(figsize=(7,5))\n",
    "ax = fig.add_subplot(111)\n",
    "\n",
    "ax.plot(day[0:4], gains[0:4], linewidth=2, color='g', linestyle=':')\n",
    "ax.plot(day[4:], gains[4:], linewidth=2, color='g', linestyle=':')\n",
    "ax.plot([day[7], day[9]], [gains[7], gains[9]], linewidth=2, color='g', linestyle=':')\n",
    "ax.scatter(day, gains, color='g', s=60)\n",
    "\n",
    "ax.set_ylim(0, 6e7)\n",
    "ax.set_xlim(day[0], day[-1])\n",
    "\n",
    "ax.set_ylabel('Gain', fontsize=fontsize)\n",
    "for ymaj in ax.yaxis.get_majorticklocs():\n",
    "    ax.axhline(y=ymaj, ls=':', color='gray', alpha=0.3, linewidth=0.5)\n",
    "for xmaj in day:\n",
    "    ax.axvline(x=xmaj, ls=':', color='gray', alpha=0.3, linewidth=0.5)\n",
    "\n",
    "dayL = mpl.dates.DayLocator()   # every day\n",
    "daysFmt = mpl.dates.DateFormatter('%m-%d')\n",
    "\n",
    "# format the ticks\n",
    "ax.xaxis.set_major_locator(dayL)\n",
    "ax.xaxis.set_major_formatter(daysFmt)\n",
    "ax.xaxis.set_minor_locator(dayL)\n",
    "\n",
    "ax.format_xdata = mpl.dates.DateFormatter('%m-%d')\n",
    "\n",
    "ax.tick_params(axis='x', labelsize=fontsize)\n",
    "ax.tick_params(axis='y', labelsize=fontsize)\n",
    "\n",
    "fb_1 = day[0:4]\n",
    "fb_1[-1] += np.timedelta64(12, 'h')\n",
    "ax.fill_between(fb_1, 0, 6e7, color='r', alpha=0.07)\n",
    "\n",
    "ax.text(0.142, 0.885, 'LED\\nmalfunctioning', fontsize=fontsize-2, horizontalalignment='center',\n",
    "        verticalalignment='center', transform=ax.transAxes)\n",
    "#ax.text(0.617, 0.6, 'Missing Datapoint', fontsize=fontsize, horizontalalignment='center',\n",
    "#        verticalalignment='center', transform=ax.transAxes, rotation=-90)\n",
    "\n",
    "fig.autofmt_xdate()\n",
    "\n",
    "fig.savefig('images/gain.pdf', bbox_inches='tight', dpi=150)"
   ]
  },
  {
   "cell_type": "code",
   "execution_count": null,
   "metadata": {},
   "outputs": [],
   "source": [
    "fig = plt.figure(figsize=(7,5))\n",
    "ax = fig.add_subplot(111)\n",
    "\n",
    "ax.plot(day[0:4], pes[0:4], linewidth=2, color='b', linestyle=':')\n",
    "ax.plot(day[4:], pes[4:], linewidth=2, color='b', linestyle=':')\n",
    "ax.plot([day[7], day[9]], [pes[7], pes[9]], linewidth=2, color='b', linestyle=':')\n",
    "ax.scatter(day, pes, color='b', s=60)\n",
    "\n",
    "ax.set_ylim(0, 200)\n",
    "ax.set_xlim(day[0], day[-1])\n",
    "\n",
    "ax.set_ylabel(r'$PE$', fontsize=fontsize)\n",
    "for ymaj in ax.yaxis.get_majorticklocs():\n",
    "    ax.axhline(y=ymaj, ls=':', color='gray', alpha=0.3, linewidth=0.5)\n",
    "for xmaj in day:\n",
    "    ax.axvline(x=xmaj, ls=':', color='gray', alpha=0.3, linewidth=0.5)\n",
    "\n",
    "dayL = mpl.dates.DayLocator()   # every day\n",
    "daysFmt = mpl.dates.DateFormatter('%m-%d')\n",
    "\n",
    "# format the ticks\n",
    "ax.xaxis.set_major_locator(dayL)\n",
    "ax.xaxis.set_major_formatter(daysFmt)\n",
    "ax.xaxis.set_minor_locator(dayL)\n",
    "\n",
    "ax.format_xdata = mpl.dates.DateFormatter('%m-%d')\n",
    "\n",
    "ax.tick_params(axis='x', labelsize=fontsize)\n",
    "ax.tick_params(axis='y', labelsize=fontsize)\n",
    "\n",
    "fb_1 = day[0:4]\n",
    "fb_1[-1] += np.timedelta64(12, 'h')\n",
    "ax.fill_between(fb_1, 0, 6e7, color='r', alpha=0.07)\n",
    "\n",
    "ax.text(0.142, 0.885, 'LED\\nmalfunctioning', fontsize=fontsize-2, horizontalalignment='center',\n",
    "        verticalalignment='center', transform=ax.transAxes)\n",
    "#ax.text(0.617, 0.6, 'Missing Datapoint', fontsize=fontsize, horizontalalignment='center',\n",
    "#        verticalalignment='center', transform=ax.transAxes, rotation=-90)\n",
    "\n",
    "fig.autofmt_xdate()\n",
    "\n",
    "fig.savefig('images/pes.pdf', bbox_inches='tight', dpi=150)"
   ]
  }
 ],
 "metadata": {
  "anaconda-cloud": {},
  "kernelspec": {
   "display_name": "Python 2",
   "language": "python",
   "name": "python2"
  },
  "language_info": {
   "codemirror_mode": {
    "name": "ipython",
    "version": 2
   },
   "file_extension": ".py",
   "mimetype": "text/x-python",
   "name": "python",
   "nbconvert_exporter": "python",
   "pygments_lexer": "ipython2",
   "version": "2.7.15"
  }
 },
 "nbformat": 4,
 "nbformat_minor": 1
}
