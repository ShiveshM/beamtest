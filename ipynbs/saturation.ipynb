{
 "cells": [
  {
   "cell_type": "code",
   "execution_count": 1,
   "metadata": {},
   "outputs": [],
   "source": [
    "%matplotlib inline"
   ]
  },
  {
   "cell_type": "code",
   "execution_count": 2,
   "metadata": {},
   "outputs": [],
   "source": [
    "import numpy as np\n",
    "import pandas as pd\n",
    "from uncertainties import unumpy as unp\n",
    "from uncertainties import ufloat\n",
    "\n",
    "import matplotlib as mpl\n",
    "import matplotlib.gridspec as gridspec\n",
    "from matplotlib import pyplot as plt\n",
    "mpl.rcParams['font.size'] = 18\n",
    "mpl.rcParams['font.family'] = 'serif'\n",
    "mpl.rcParams['font.serif'] = 'Computer Modern, Latin Modern Roman, Bitstream Vera Serif'\n",
    "mpl.rcParams['text.usetex'] = True\n",
    "\n",
    "import warnings\n",
    "warnings.simplefilter(\"ignore\", UserWarning)"
   ]
  },
  {
   "cell_type": "code",
   "execution_count": 3,
   "metadata": {},
   "outputs": [],
   "source": [
    "basedir = '/home/shivesh/Documents/physics/PhD/beamtest/DDC2/pingu/latest/data/l3/bwd_2'\n",
    "e_cfg = [1, 2, 4, 6, 8]\n",
    "pi_cfg = [4, 6, 8, 25]\n",
    "\n",
    "E_DATA = {}\n",
    "for cfg in e_cfg:\n",
    "    E_DATA[cfg] = basedir + '/{0}GeV_e.hd5'.format(cfg)\n",
    "\n",
    "PI_DATA = {}\n",
    "for cfg in pi_cfg:\n",
    "    PI_DATA[cfg] = basedir + '/{0}GeV_pi.hd5'.format(cfg)"
   ]
  },
  {
   "cell_type": "code",
   "execution_count": 4,
   "metadata": {},
   "outputs": [],
   "source": [
    "E_DF = {}\n",
    "for cfg in e_cfg:\n",
    "    store = pd.HDFStore(E_DATA[cfg])\n",
    "    E_DF[cfg] = store['df']\n",
    "    store.close()\n",
    "\n",
    "PI_DF = {}\n",
    "for cfg in pi_cfg:\n",
    "    store = pd.HDFStore(PI_DATA[cfg])\n",
    "    PI_DF[cfg] = store['df']\n",
    "    store.close()"
   ]
  },
  {
   "cell_type": "code",
   "execution_count": 5,
   "metadata": {},
   "outputs": [
    {
     "name": "stdout",
     "output_type": "stream",
     "text": [
      "e_var [8.186834348815271+/-1.0773888779942877, 8.058590177383211+/-0.9865022418206951, 8.520048570458675+/-1.1020122606743767, 9.812487218359198+/-1.7170584726386997, 10.776457507114669+/-1.497859785895262]\n"
     ]
    }
   ],
   "source": [
    "e_var_dict = {}\n",
    "for cfg in e_cfg:\n",
    "    e_var_dict[cfg] = []\n",
    "    df = E_DF[cfg]\n",
    "    for idx in xrange(df['index'].max() + 1):\n",
    "        mask_idx = df['index'] == idx\n",
    "        wv = df[mask_idx]\n",
    "        mu = wv['gauss_mu'].unique()\n",
    "        sigma = wv['gauss_sigma'].unique()\n",
    "        assert len(mu) == 1\n",
    "        assert len(sigma) == 1\n",
    "        mu = mu[0]\n",
    "        sigma = sigma[0]\n",
    "        if (mu>100) & (mu<150) & (sigma>2.5) & (sigma<15):\n",
    "            av_var = sigma# / mu\n",
    "            e_var_dict[cfg].append(av_var)\n",
    "\n",
    "e_var = [ufloat(np.mean(e_var_dict[cfg]), np.std(e_var_dict[cfg])) for cfg in e_cfg]\n",
    "\n",
    "print 'e_var', e_var"
   ]
  },
  {
   "cell_type": "code",
   "execution_count": 6,
   "metadata": {},
   "outputs": [
    {
     "name": "stdout",
     "output_type": "stream",
     "text": [
      "pi_var [7.51469455354156+/-0.8415478489931975, 7.002159774717059+/-0.8238799679963874, 6.972011621895499+/-0.9569527444539776, 8.030379932209032+/-1.3964587906486445]\n"
     ]
    }
   ],
   "source": [
    "pi_var_dict = {}\n",
    "for cfg in pi_cfg:\n",
    "    pi_var_dict[cfg] = []\n",
    "    df = PI_DF[cfg]\n",
    "    for idx in xrange(df['index'].max() + 1):\n",
    "        mask_idx = df['index'] == idx\n",
    "        wv = df[mask_idx]\n",
    "        mu = wv['gauss_mu'].unique()\n",
    "        sigma = wv['gauss_sigma'].unique()\n",
    "        assert len(mu) == 1\n",
    "        assert len(sigma) == 1\n",
    "        mu = mu[0]\n",
    "        sigma = sigma[0]\n",
    "        if (mu>100) & (mu<150) & (sigma>2.5) & (sigma<15):\n",
    "            av_var = sigma# / mu\n",
    "            pi_var_dict[cfg].append(av_var)\n",
    "\n",
    "pi_var = [ufloat(np.mean(pi_var_dict[cfg]), np.std(pi_var_dict[cfg])) for cfg in pi_cfg]\n",
    "\n",
    "print 'pi_var', pi_var"
   ]
  },
  {
   "cell_type": "code",
   "execution_count": 8,
   "metadata": {},
   "outputs": [
    {
     "data": {
      "image/png": "[encoded data removed]",
      "text/plain": [
       "<Figure size 432x288 with 1 Axes>"
      ]
     },
     "metadata": {
      "needs_background": "light"
     },
     "output_type": "display_data"
    }
   ],
   "source": [
    "fontsize = 16\n",
    "\n",
    "fig = plt.figure(figsize=(6,4))\n",
    "ax = fig.add_subplot(111)\n",
    "\n",
    "ax.set_xlim(0, 9)\n",
    "#ax.set_ylim(0.04, 0.12)\n",
    "ax.set_ylim(5, 16)\n",
    "\n",
    "for ymaj in ax.yaxis.get_majorticklocs():\n",
    "    ax.axhline(y=ymaj, ls=':', color='gray', alpha=1, linewidth=0.3)\n",
    "for xmaj in ax.xaxis.get_majorticklocs():\n",
    "    ax.axvline(x=xmaj, ls=':', color='gray', alpha=1, linewidth=0.3)\n",
    "\n",
    "ax.set_xlabel(r'Energy (GeV)', fontsize=fontsize)\n",
    "#ax.set_ylabel(r'$<\\sigma_p\\:/\\:\\mu_p>\\:$', fontsize=fontsize)\n",
    "ax.set_ylabel(r'$<\\sigma_p>\\left({\\rm mV}\\right)$', fontsize=fontsize)\n",
    "ax.tick_params(axis='x', labelsize=fontsize)\n",
    "ax.tick_params(axis='y', labelsize=fontsize)\n",
    "\n",
    "x = e_cfg\n",
    "y = e_var\n",
    "ax.plot(x, unp.nominal_values(y), marker='x', color='red',\n",
    "          linewidth=1.4, label=r'$e$ triggered', zorder=4)\n",
    "ax.errorbar(\n",
    "    x, unp.nominal_values(y), color='red', xerr=0, yerr=unp.std_devs(y),\n",
    "    capsize=1.6, alpha=1, linestyle='None', markersize=2, linewidth=1.4, zorder=4\n",
    ")\n",
    "\n",
    "x = pi_cfg[:-1]\n",
    "y = pi_var[:-1]\n",
    "ax.plot(x, unp.nominal_values(y), marker='x', color='blue',\n",
    "          linewidth=1.4, label=r'$\\pi$ triggered')\n",
    "ax.errorbar(\n",
    "    x, unp.nominal_values(y), color='blue', xerr=0, yerr=unp.std_devs(y),\n",
    "    capsize=1.6, alpha=1, linestyle='None', markersize=2, linewidth=1.4\n",
    ")\n",
    "\n",
    "ax.legend(loc='upper right', prop={'size': fontsize})\n",
    "\n",
    "fig.savefig('./images/saturation.pdf', bbox_inches='tight', dpi=150)"
   ]
  }
 ],
 "metadata": {
  "kernelspec": {
   "display_name": "Python 2",
   "language": "python",
   "name": "python2"
  },
  "language_info": {
   "codemirror_mode": {
    "name": "ipython",
    "version": 2
   },
   "file_extension": ".py",
   "mimetype": "text/x-python",
   "name": "python",
   "nbconvert_exporter": "python",
   "pygments_lexer": "ipython2",
   "version": "2.7.15"
  }
 },
 "nbformat": 4,
 "nbformat_minor": 2
}
